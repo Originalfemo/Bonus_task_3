{
 "cells": [
  {
   "cell_type": "code",
   "execution_count": 1,
   "id": "34bb333f",
   "metadata": {},
   "outputs": [],
   "source": [
    "# import os\n",
    "# cwd = os.getcwd()\n",
    "# print(\"Current Working Directory:\", cwd)"
   ]
  },
  {
   "cell_type": "code",
   "execution_count": 2,
   "id": "57813239",
   "metadata": {},
   "outputs": [],
   "source": [
    "import numpy as np\n",
    "import matplotlib.pyplot as plt\n",
    "import pandas as pd\n",
    "import seaborn as sns\n",
    "import plotly.express as px\n",
    "import plotly.graph_objects as go"
   ]
  },
  {
   "cell_type": "markdown",
   "id": "f3b29f76",
   "metadata": {},
   "source": [
    "#### Load the dataset"
   ]
  },
  {
   "cell_type": "code",
   "execution_count": 3,
   "id": "a78d409e",
   "metadata": {},
   "outputs": [
    {
     "data": {
      "text/html": [
       "<div>\n",
       "<style scoped>\n",
       "    .dataframe tbody tr th:only-of-type {\n",
       "        vertical-align: middle;\n",
       "    }\n",
       "\n",
       "    .dataframe tbody tr th {\n",
       "        vertical-align: top;\n",
       "    }\n",
       "\n",
       "    .dataframe thead th {\n",
       "        text-align: right;\n",
       "    }\n",
       "</style>\n",
       "<table border=\"1\" class=\"dataframe\">\n",
       "  <thead>\n",
       "    <tr style=\"text-align: right;\">\n",
       "      <th></th>\n",
       "      <th>email</th>\n",
       "      <th>lead_status_for_campaign</th>\n",
       "      <th>campaign_id</th>\n",
       "      <th>campaign_city</th>\n",
       "    </tr>\n",
       "  </thead>\n",
       "  <tbody>\n",
       "    <tr>\n",
       "      <th>0</th>\n",
       "      <td>user0@example.com</td>\n",
       "      <td>email_sent</td>\n",
       "      <td>camp_1</td>\n",
       "      <td>Denver</td>\n",
       "    </tr>\n",
       "    <tr>\n",
       "      <th>1</th>\n",
       "      <td>user1@example.com</td>\n",
       "      <td>email_sent</td>\n",
       "      <td>camp_2</td>\n",
       "      <td>Phoenix</td>\n",
       "    </tr>\n",
       "    <tr>\n",
       "      <th>2</th>\n",
       "      <td>user2@example.com</td>\n",
       "      <td>email_opened</td>\n",
       "      <td>camp_1</td>\n",
       "      <td>Denver</td>\n",
       "    </tr>\n",
       "    <tr>\n",
       "      <th>3</th>\n",
       "      <td>user3@example.com</td>\n",
       "      <td>email_opened</td>\n",
       "      <td>camp_1</td>\n",
       "      <td>Denver</td>\n",
       "    </tr>\n",
       "    <tr>\n",
       "      <th>4</th>\n",
       "      <td>user4@example.com</td>\n",
       "      <td>email_bounced</td>\n",
       "      <td>camp_1</td>\n",
       "      <td>Dallas</td>\n",
       "    </tr>\n",
       "  </tbody>\n",
       "</table>\n",
       "</div>"
      ],
      "text/plain": [
       "               email lead_status_for_campaign campaign_id campaign_city\n",
       "0  user0@example.com               email_sent      camp_1        Denver\n",
       "1  user1@example.com               email_sent      camp_2       Phoenix\n",
       "2  user2@example.com             email_opened      camp_1        Denver\n",
       "3  user3@example.com             email_opened      camp_1        Denver\n",
       "4  user4@example.com            email_bounced      camp_1        Dallas"
      ]
     },
     "execution_count": 3,
     "metadata": {},
     "output_type": "execute_result"
    }
   ],
   "source": [
    "leads  = pd.read_excel(\"leads for take home assignment.xlsx\")\n",
    "leads.head(5)"
   ]
  },
  {
   "cell_type": "markdown",
   "id": "0ed826fc",
   "metadata": {},
   "source": [
    "Check for null values and the shape"
   ]
  },
  {
   "cell_type": "code",
   "execution_count": 4,
   "id": "a5a33e9c",
   "metadata": {},
   "outputs": [
    {
     "name": "stdout",
     "output_type": "stream",
     "text": [
      "<class 'pandas.core.frame.DataFrame'>\n",
      "RangeIndex: 210 entries, 0 to 209\n",
      "Data columns (total 4 columns):\n",
      " #   Column                    Non-Null Count  Dtype \n",
      "---  ------                    --------------  ----- \n",
      " 0   email                     210 non-null    object\n",
      " 1   lead_status_for_campaign  210 non-null    object\n",
      " 2   campaign_id               210 non-null    object\n",
      " 3   campaign_city             210 non-null    object\n",
      "dtypes: object(4)\n",
      "memory usage: 6.7+ KB\n"
     ]
    }
   ],
   "source": [
    "leads.info()"
   ]
  },
  {
   "cell_type": "code",
   "execution_count": 5,
   "id": "c98e53c9",
   "metadata": {},
   "outputs": [
    {
     "data": {
      "text/plain": [
       "(210, 4)"
      ]
     },
     "execution_count": 5,
     "metadata": {},
     "output_type": "execute_result"
    }
   ],
   "source": [
    "leads.shape"
   ]
  },
  {
   "cell_type": "markdown",
   "id": "c1b47d0b",
   "metadata": {},
   "source": [
    "check for the number of unique values"
   ]
  },
  {
   "cell_type": "code",
   "execution_count": 6,
   "id": "fb65e90e",
   "metadata": {},
   "outputs": [
    {
     "data": {
      "text/plain": [
       "email                       210\n",
       "lead_status_for_campaign      5\n",
       "campaign_id                   5\n",
       "campaign_city                 3\n",
       "dtype: int64"
      ]
     },
     "execution_count": 6,
     "metadata": {},
     "output_type": "execute_result"
    }
   ],
   "source": [
    "leads.nunique()"
   ]
  },
  {
   "cell_type": "markdown",
   "id": "8fd2e899",
   "metadata": {},
   "source": [
    "Check for duplicated rows"
   ]
  },
  {
   "cell_type": "code",
   "execution_count": 7,
   "id": "82c2b3bb",
   "metadata": {},
   "outputs": [
    {
     "data": {
      "text/plain": [
       "np.int64(0)"
      ]
     },
     "execution_count": 7,
     "metadata": {},
     "output_type": "execute_result"
    }
   ],
   "source": [
    "leads.duplicated().sum()"
   ]
  },
  {
   "cell_type": "markdown",
   "id": "18aa859b",
   "metadata": {},
   "source": [
    "Check for the unique values"
   ]
  },
  {
   "cell_type": "code",
   "execution_count": 8,
   "id": "4462a077",
   "metadata": {},
   "outputs": [
    {
     "name": "stdout",
     "output_type": "stream",
     "text": [
      "The unique values in campaign city is: ['Denver' 'Phoenix' 'Dallas']\n",
      "The unique values in campaign id is: ['camp_1' 'camp_2' 'camp_5' 'camp_4' 'camp_3']\n",
      "The unique values in lead status for campaign is: ['email_sent' 'email_opened' 'email_bounced' 'email_replied'\n",
      " 'email_unsubscribed']\n"
     ]
    }
   ],
   "source": [
    "print(\"The unique values in campaign city is:\", leads['campaign_city'].unique())\n",
    "print(\"The unique values in campaign id is:\", leads['campaign_id'].unique())\n",
    "print(\"The unique values in lead status for campaign is:\", leads['lead_status_for_campaign'].unique())"
   ]
  },
  {
   "cell_type": "markdown",
   "id": "5a5197cb",
   "metadata": {},
   "source": [
    "The email_sent value in the lead_status_campaign will be renamed email_unopened because that is a more accurate reflection of its status. Email sent is the count of email_sent, email_opened, email_bounced, email_replied, and email_unsubscribed."
   ]
  },
  {
   "cell_type": "code",
   "execution_count": 9,
   "id": "922f7b90",
   "metadata": {},
   "outputs": [],
   "source": [
    "leads['lead_status_for_campaign'] = leads['lead_status_for_campaign'].replace({'email_sent': 'email_unopened'})"
   ]
  },
  {
   "cell_type": "code",
   "execution_count": 10,
   "id": "abf7f0e5",
   "metadata": {},
   "outputs": [
    {
     "name": "stdout",
     "output_type": "stream",
     "text": [
      "The unique values in lead status for campaign is: ['email_unopened' 'email_opened' 'email_bounced' 'email_replied'\n",
      " 'email_unsubscribed']\n"
     ]
    }
   ],
   "source": [
    "#check if the replacement is done\n",
    "print(\"The unique values in lead status for campaign is:\", leads['lead_status_for_campaign'].unique())"
   ]
  },
  {
   "cell_type": "markdown",
   "id": "b2f33fac",
   "metadata": {},
   "source": [
    "#### Univariate Analysis"
   ]
  },
  {
   "cell_type": "markdown",
   "id": "5eb4bad5",
   "metadata": {},
   "source": [
    "Lead Status For Campaign"
   ]
  },
  {
   "cell_type": "code",
   "execution_count": 11,
   "id": "b6c35255",
   "metadata": {},
   "outputs": [
    {
     "data": {
      "text/plain": [
       "lead_status_for_campaign\n",
       "email_unopened        64\n",
       "email_opened          63\n",
       "email_bounced         41\n",
       "email_replied         34\n",
       "email_unsubscribed     8\n",
       "Name: count, dtype: int64"
      ]
     },
     "execution_count": 11,
     "metadata": {},
     "output_type": "execute_result"
    }
   ],
   "source": [
    "leads['lead_status_for_campaign'].value_counts()"
   ]
  },
  {
   "cell_type": "code",
   "execution_count": 12,
   "id": "6758ea21",
   "metadata": {},
   "outputs": [
    {
     "name": "stdout",
     "output_type": "stream",
     "text": [
      "Total number of emails sent is: 210\n",
      "Of the 210 emails sent, 63 were opened which accounts for 30.0 % of the total emails sent\n"
     ]
    }
   ],
   "source": [
    "print(\"Total number of emails sent is:\", leads['lead_status_for_campaign'].count())\n",
    "print(\"Of the 210 emails sent,\", \n",
    "      (leads['lead_status_for_campaign'] == \"email_opened\").sum(), \n",
    "      \"were opened\", \"which accounts for\",\n",
    "       (leads['lead_status_for_campaign'] == \"email_opened\").sum() / leads['lead_status_for_campaign'].count() * 100,\n",
    "         \"% of the total emails sent\")"
   ]
  },
  {
   "cell_type": "code",
   "execution_count": 13,
   "id": "5fa88327",
   "metadata": {},
   "outputs": [
    {
     "name": "stdout",
     "output_type": "stream",
     "text": [
      "41 emails bounced which accounts for 19.52 % of the total emails sent\n"
     ]
    }
   ],
   "source": [
    "print((leads['lead_status_for_campaign'] == \"email_bounced\").sum(), \n",
    "      \"emails bounced\", \"which accounts for\",\n",
    "      f\"{((leads['lead_status_for_campaign'] == \"email_bounced\").sum() / leads['lead_status_for_campaign'].count() * 100):.2f}\",\n",
    "      \"% of the total emails sent\")"
   ]
  },
  {
   "cell_type": "code",
   "execution_count": 14,
   "id": "69a8b728",
   "metadata": {},
   "outputs": [
    {
     "name": "stdout",
     "output_type": "stream",
     "text": [
      "34 emails were replied to which accounts for 16.19 % of the total emails sent\n"
     ]
    }
   ],
   "source": [
    "print((leads['lead_status_for_campaign'] == \"email_replied\").sum(), \n",
    "      \"emails were replied to\", \"which accounts for\",\n",
    "      f\"{((leads['lead_status_for_campaign'] == \"email_replied\").sum() / leads['lead_status_for_campaign'].count() * 100):.2f}\",\n",
    "      \"% of the total emails sent\")"
   ]
  },
  {
   "cell_type": "markdown",
   "id": "ce9f7eaa",
   "metadata": {},
   "source": [
    "The average Click-Through-Rate for any email marketing campaign is between 2-5%. Therefore, this email campaign can be said to be a success"
   ]
  },
  {
   "cell_type": "code",
   "execution_count": 15,
   "id": "42535b33",
   "metadata": {},
   "outputs": [
    {
     "name": "stdout",
     "output_type": "stream",
     "text": [
      "8 potential clients unsubscribed from our email service. This accounts for 3.81 % of individuals who got a mail from us.\n"
     ]
    }
   ],
   "source": [
    "print((leads['lead_status_for_campaign'] == \"email_unsubscribed\").sum(), \n",
    "      \"potential clients unsubscribed from our email service.\", \"This accounts for\",\n",
    "      f\"{((leads['lead_status_for_campaign'] == \"email_unsubscribed\").sum() / leads['lead_status_for_campaign'].count() * 100):.2f}\",\n",
    "      \"% of individuals who got a mail from us.\")"
   ]
  },
  {
   "cell_type": "markdown",
   "id": "b9c5b953",
   "metadata": {},
   "source": [
    "CAMPAIGN_ID"
   ]
  },
  {
   "cell_type": "code",
   "execution_count": 16,
   "id": "7d41aaeb",
   "metadata": {},
   "outputs": [
    {
     "name": "stdout",
     "output_type": "stream",
     "text": [
      "             count  percentage (%)\n",
      "campaign_id                       \n",
      "camp_2          50           23.81\n",
      "camp_5          46           21.90\n",
      "camp_3          40           19.05\n",
      "camp_1          38           18.10\n",
      "camp_4          36           17.14\n"
     ]
    }
   ],
   "source": [
    "campaign_counts = leads['campaign_id'].value_counts()\n",
    "campaign_percentages = leads['campaign_id'].value_counts(normalize=True) * 100\n",
    "\n",
    "campaign_summary = pd.DataFrame({\n",
    "    'count': campaign_counts,\n",
    "    'percentage (%)': campaign_percentages.round(2)\n",
    "})\n",
    "\n",
    "print(campaign_summary)\n"
   ]
  },
  {
   "cell_type": "markdown",
   "id": "1ad1db0f",
   "metadata": {},
   "source": [
    "More emails were sent from camp 2 compared to other camps"
   ]
  },
  {
   "cell_type": "markdown",
   "id": "d01a51e5",
   "metadata": {},
   "source": [
    "CAMPAIGN CITY"
   ]
  },
  {
   "cell_type": "code",
   "execution_count": 17,
   "id": "0e89cf27",
   "metadata": {},
   "outputs": [
    {
     "name": "stdout",
     "output_type": "stream",
     "text": [
      "               count  percentage(%)\n",
      "campaign_city                      \n",
      "Dallas            73          34.76\n",
      "Phoenix           69          32.86\n",
      "Denver            68          32.38\n"
     ]
    }
   ],
   "source": [
    "city_count = leads['campaign_city'].value_counts()\n",
    "city_percentage = leads['campaign_city'].value_counts(normalize=True) * 100\n",
    "\n",
    "city_campaign_summary = pd.DataFrame({\n",
    "    'count': city_count,\n",
    "    'percentage(%)': city_percentage.round(2)\n",
    "})\n",
    "\n",
    "print(city_campaign_summary)"
   ]
  },
  {
   "cell_type": "markdown",
   "id": "b0071866",
   "metadata": {},
   "source": [
    "The city of Dallas is the major recipient of emails from the campaign"
   ]
  },
  {
   "cell_type": "markdown",
   "id": "bafe88ed",
   "metadata": {},
   "source": [
    "#### BIVARIATE ANALYSIS"
   ]
  },
  {
   "cell_type": "markdown",
   "id": "1145e88e",
   "metadata": {},
   "source": [
    "compare email status by city and camp"
   ]
  },
  {
   "cell_type": "code",
   "execution_count": 18,
   "id": "c71cd3cc",
   "metadata": {},
   "outputs": [
    {
     "name": "stdout",
     "output_type": "stream",
     "text": [
      "campaign_city  lead_status_for_campaign\n",
      "Dallas         email_bounced               37\n",
      "               email_opened                15\n",
      "               email_unopened              11\n",
      "               email_replied                9\n",
      "               email_unsubscribed           1\n",
      "Denver         email_unopened              28\n",
      "               email_opened                26\n",
      "               email_replied               12\n",
      "               email_bounced                2\n",
      "Phoenix        email_unopened              25\n",
      "               email_opened                22\n",
      "               email_replied               13\n",
      "               email_unsubscribed           7\n",
      "               email_bounced                2\n",
      "Name: count, dtype: int64\n"
     ]
    }
   ],
   "source": [
    "city_status = leads.groupby('campaign_city')['lead_status_for_campaign'].value_counts()\n",
    "print(city_status)"
   ]
  },
  {
   "cell_type": "code",
   "execution_count": 19,
   "id": "0c21c588",
   "metadata": {},
   "outputs": [
    {
     "data": {
      "text/plain": [
       "campaign_id  lead_status_for_campaign\n",
       "camp_1       email_unopened              13\n",
       "             email_replied               10\n",
       "             email_opened                 8\n",
       "             email_bounced                6\n",
       "             email_unsubscribed           1\n",
       "camp_2       email_opened                17\n",
       "             email_bounced               13\n",
       "             email_unopened              13\n",
       "             email_replied                5\n",
       "             email_unsubscribed           2\n",
       "camp_3       email_opened                12\n",
       "             email_unopened              11\n",
       "             email_bounced                8\n",
       "             email_replied                6\n",
       "             email_unsubscribed           3\n",
       "camp_4       email_opened                12\n",
       "             email_unopened               9\n",
       "             email_bounced                8\n",
       "             email_replied                6\n",
       "             email_unsubscribed           1\n",
       "camp_5       email_unopened              18\n",
       "             email_opened                14\n",
       "             email_replied                7\n",
       "             email_bounced                6\n",
       "             email_unsubscribed           1\n",
       "Name: count, dtype: int64"
      ]
     },
     "execution_count": 19,
     "metadata": {},
     "output_type": "execute_result"
    }
   ],
   "source": [
    "leads.groupby('campaign_id')['lead_status_for_campaign'].value_counts()"
   ]
  },
  {
   "cell_type": "code",
   "execution_count": 20,
   "id": "d963d516",
   "metadata": {},
   "outputs": [
    {
     "data": {
      "text/html": [
       "<div>\n",
       "<style scoped>\n",
       "    .dataframe tbody tr th:only-of-type {\n",
       "        vertical-align: middle;\n",
       "    }\n",
       "\n",
       "    .dataframe tbody tr th {\n",
       "        vertical-align: top;\n",
       "    }\n",
       "\n",
       "    .dataframe thead th {\n",
       "        text-align: right;\n",
       "    }\n",
       "</style>\n",
       "<table border=\"1\" class=\"dataframe\">\n",
       "  <thead>\n",
       "    <tr style=\"text-align: right;\">\n",
       "      <th></th>\n",
       "      <th>campaign_city</th>\n",
       "      <th>lead_status_for_campaign</th>\n",
       "      <th>percentage</th>\n",
       "    </tr>\n",
       "  </thead>\n",
       "  <tbody>\n",
       "    <tr>\n",
       "      <th>0</th>\n",
       "      <td>Dallas</td>\n",
       "      <td>email_bounced</td>\n",
       "      <td>50.68</td>\n",
       "    </tr>\n",
       "    <tr>\n",
       "      <th>1</th>\n",
       "      <td>Dallas</td>\n",
       "      <td>email_opened</td>\n",
       "      <td>20.55</td>\n",
       "    </tr>\n",
       "    <tr>\n",
       "      <th>2</th>\n",
       "      <td>Dallas</td>\n",
       "      <td>email_unopened</td>\n",
       "      <td>15.07</td>\n",
       "    </tr>\n",
       "    <tr>\n",
       "      <th>3</th>\n",
       "      <td>Dallas</td>\n",
       "      <td>email_replied</td>\n",
       "      <td>12.33</td>\n",
       "    </tr>\n",
       "    <tr>\n",
       "      <th>4</th>\n",
       "      <td>Dallas</td>\n",
       "      <td>email_unsubscribed</td>\n",
       "      <td>1.37</td>\n",
       "    </tr>\n",
       "    <tr>\n",
       "      <th>5</th>\n",
       "      <td>Denver</td>\n",
       "      <td>email_unopened</td>\n",
       "      <td>41.18</td>\n",
       "    </tr>\n",
       "    <tr>\n",
       "      <th>6</th>\n",
       "      <td>Denver</td>\n",
       "      <td>email_opened</td>\n",
       "      <td>38.24</td>\n",
       "    </tr>\n",
       "    <tr>\n",
       "      <th>7</th>\n",
       "      <td>Denver</td>\n",
       "      <td>email_replied</td>\n",
       "      <td>17.65</td>\n",
       "    </tr>\n",
       "    <tr>\n",
       "      <th>8</th>\n",
       "      <td>Denver</td>\n",
       "      <td>email_bounced</td>\n",
       "      <td>2.94</td>\n",
       "    </tr>\n",
       "    <tr>\n",
       "      <th>9</th>\n",
       "      <td>Phoenix</td>\n",
       "      <td>email_unopened</td>\n",
       "      <td>36.23</td>\n",
       "    </tr>\n",
       "    <tr>\n",
       "      <th>10</th>\n",
       "      <td>Phoenix</td>\n",
       "      <td>email_opened</td>\n",
       "      <td>31.88</td>\n",
       "    </tr>\n",
       "    <tr>\n",
       "      <th>11</th>\n",
       "      <td>Phoenix</td>\n",
       "      <td>email_replied</td>\n",
       "      <td>18.84</td>\n",
       "    </tr>\n",
       "    <tr>\n",
       "      <th>12</th>\n",
       "      <td>Phoenix</td>\n",
       "      <td>email_unsubscribed</td>\n",
       "      <td>10.14</td>\n",
       "    </tr>\n",
       "    <tr>\n",
       "      <th>13</th>\n",
       "      <td>Phoenix</td>\n",
       "      <td>email_bounced</td>\n",
       "      <td>2.90</td>\n",
       "    </tr>\n",
       "  </tbody>\n",
       "</table>\n",
       "</div>"
      ],
      "text/plain": [
       "   campaign_city lead_status_for_campaign  percentage\n",
       "0         Dallas            email_bounced       50.68\n",
       "1         Dallas             email_opened       20.55\n",
       "2         Dallas           email_unopened       15.07\n",
       "3         Dallas            email_replied       12.33\n",
       "4         Dallas       email_unsubscribed        1.37\n",
       "5         Denver           email_unopened       41.18\n",
       "6         Denver             email_opened       38.24\n",
       "7         Denver            email_replied       17.65\n",
       "8         Denver            email_bounced        2.94\n",
       "9        Phoenix           email_unopened       36.23\n",
       "10       Phoenix             email_opened       31.88\n",
       "11       Phoenix            email_replied       18.84\n",
       "12       Phoenix       email_unsubscribed       10.14\n",
       "13       Phoenix            email_bounced        2.90"
      ]
     },
     "execution_count": 20,
     "metadata": {},
     "output_type": "execute_result"
    }
   ],
   "source": [
    "leads.groupby('campaign_city')['lead_status_for_campaign'].value_counts(normalize=True).mul(100).round(2).rename('percentage').reset_index()"
   ]
  },
  {
   "cell_type": "markdown",
   "id": "9d0a0913",
   "metadata": {},
   "source": [
    "Dallas has a very high bounce rate, with over 50% of emails bounced, compared to the 2.9% bounce rate in Denver and Phoenix"
   ]
  },
  {
   "cell_type": "code",
   "execution_count": 21,
   "id": "744c1dc2",
   "metadata": {},
   "outputs": [
    {
     "data": {
      "text/html": [
       "<div>\n",
       "<style scoped>\n",
       "    .dataframe tbody tr th:only-of-type {\n",
       "        vertical-align: middle;\n",
       "    }\n",
       "\n",
       "    .dataframe tbody tr th {\n",
       "        vertical-align: top;\n",
       "    }\n",
       "\n",
       "    .dataframe thead th {\n",
       "        text-align: right;\n",
       "    }\n",
       "</style>\n",
       "<table border=\"1\" class=\"dataframe\">\n",
       "  <thead>\n",
       "    <tr style=\"text-align: right;\">\n",
       "      <th></th>\n",
       "      <th>campaign_id</th>\n",
       "      <th>lead_status_for_campaign</th>\n",
       "      <th>percentage</th>\n",
       "    </tr>\n",
       "  </thead>\n",
       "  <tbody>\n",
       "    <tr>\n",
       "      <th>0</th>\n",
       "      <td>camp_1</td>\n",
       "      <td>email_unopened</td>\n",
       "      <td>34.21</td>\n",
       "    </tr>\n",
       "    <tr>\n",
       "      <th>1</th>\n",
       "      <td>camp_1</td>\n",
       "      <td>email_replied</td>\n",
       "      <td>26.32</td>\n",
       "    </tr>\n",
       "    <tr>\n",
       "      <th>2</th>\n",
       "      <td>camp_1</td>\n",
       "      <td>email_opened</td>\n",
       "      <td>21.05</td>\n",
       "    </tr>\n",
       "    <tr>\n",
       "      <th>3</th>\n",
       "      <td>camp_1</td>\n",
       "      <td>email_bounced</td>\n",
       "      <td>15.79</td>\n",
       "    </tr>\n",
       "    <tr>\n",
       "      <th>4</th>\n",
       "      <td>camp_1</td>\n",
       "      <td>email_unsubscribed</td>\n",
       "      <td>2.63</td>\n",
       "    </tr>\n",
       "    <tr>\n",
       "      <th>5</th>\n",
       "      <td>camp_2</td>\n",
       "      <td>email_opened</td>\n",
       "      <td>34.00</td>\n",
       "    </tr>\n",
       "    <tr>\n",
       "      <th>6</th>\n",
       "      <td>camp_2</td>\n",
       "      <td>email_bounced</td>\n",
       "      <td>26.00</td>\n",
       "    </tr>\n",
       "    <tr>\n",
       "      <th>7</th>\n",
       "      <td>camp_2</td>\n",
       "      <td>email_unopened</td>\n",
       "      <td>26.00</td>\n",
       "    </tr>\n",
       "    <tr>\n",
       "      <th>8</th>\n",
       "      <td>camp_2</td>\n",
       "      <td>email_replied</td>\n",
       "      <td>10.00</td>\n",
       "    </tr>\n",
       "    <tr>\n",
       "      <th>9</th>\n",
       "      <td>camp_2</td>\n",
       "      <td>email_unsubscribed</td>\n",
       "      <td>4.00</td>\n",
       "    </tr>\n",
       "    <tr>\n",
       "      <th>10</th>\n",
       "      <td>camp_3</td>\n",
       "      <td>email_opened</td>\n",
       "      <td>30.00</td>\n",
       "    </tr>\n",
       "    <tr>\n",
       "      <th>11</th>\n",
       "      <td>camp_3</td>\n",
       "      <td>email_unopened</td>\n",
       "      <td>27.50</td>\n",
       "    </tr>\n",
       "    <tr>\n",
       "      <th>12</th>\n",
       "      <td>camp_3</td>\n",
       "      <td>email_bounced</td>\n",
       "      <td>20.00</td>\n",
       "    </tr>\n",
       "    <tr>\n",
       "      <th>13</th>\n",
       "      <td>camp_3</td>\n",
       "      <td>email_replied</td>\n",
       "      <td>15.00</td>\n",
       "    </tr>\n",
       "    <tr>\n",
       "      <th>14</th>\n",
       "      <td>camp_3</td>\n",
       "      <td>email_unsubscribed</td>\n",
       "      <td>7.50</td>\n",
       "    </tr>\n",
       "    <tr>\n",
       "      <th>15</th>\n",
       "      <td>camp_4</td>\n",
       "      <td>email_opened</td>\n",
       "      <td>33.33</td>\n",
       "    </tr>\n",
       "    <tr>\n",
       "      <th>16</th>\n",
       "      <td>camp_4</td>\n",
       "      <td>email_unopened</td>\n",
       "      <td>25.00</td>\n",
       "    </tr>\n",
       "    <tr>\n",
       "      <th>17</th>\n",
       "      <td>camp_4</td>\n",
       "      <td>email_bounced</td>\n",
       "      <td>22.22</td>\n",
       "    </tr>\n",
       "    <tr>\n",
       "      <th>18</th>\n",
       "      <td>camp_4</td>\n",
       "      <td>email_replied</td>\n",
       "      <td>16.67</td>\n",
       "    </tr>\n",
       "    <tr>\n",
       "      <th>19</th>\n",
       "      <td>camp_4</td>\n",
       "      <td>email_unsubscribed</td>\n",
       "      <td>2.78</td>\n",
       "    </tr>\n",
       "    <tr>\n",
       "      <th>20</th>\n",
       "      <td>camp_5</td>\n",
       "      <td>email_unopened</td>\n",
       "      <td>39.13</td>\n",
       "    </tr>\n",
       "    <tr>\n",
       "      <th>21</th>\n",
       "      <td>camp_5</td>\n",
       "      <td>email_opened</td>\n",
       "      <td>30.43</td>\n",
       "    </tr>\n",
       "    <tr>\n",
       "      <th>22</th>\n",
       "      <td>camp_5</td>\n",
       "      <td>email_replied</td>\n",
       "      <td>15.22</td>\n",
       "    </tr>\n",
       "    <tr>\n",
       "      <th>23</th>\n",
       "      <td>camp_5</td>\n",
       "      <td>email_bounced</td>\n",
       "      <td>13.04</td>\n",
       "    </tr>\n",
       "    <tr>\n",
       "      <th>24</th>\n",
       "      <td>camp_5</td>\n",
       "      <td>email_unsubscribed</td>\n",
       "      <td>2.17</td>\n",
       "    </tr>\n",
       "  </tbody>\n",
       "</table>\n",
       "</div>"
      ],
      "text/plain": [
       "   campaign_id lead_status_for_campaign  percentage\n",
       "0       camp_1           email_unopened       34.21\n",
       "1       camp_1            email_replied       26.32\n",
       "2       camp_1             email_opened       21.05\n",
       "3       camp_1            email_bounced       15.79\n",
       "4       camp_1       email_unsubscribed        2.63\n",
       "5       camp_2             email_opened       34.00\n",
       "6       camp_2            email_bounced       26.00\n",
       "7       camp_2           email_unopened       26.00\n",
       "8       camp_2            email_replied       10.00\n",
       "9       camp_2       email_unsubscribed        4.00\n",
       "10      camp_3             email_opened       30.00\n",
       "11      camp_3           email_unopened       27.50\n",
       "12      camp_3            email_bounced       20.00\n",
       "13      camp_3            email_replied       15.00\n",
       "14      camp_3       email_unsubscribed        7.50\n",
       "15      camp_4             email_opened       33.33\n",
       "16      camp_4           email_unopened       25.00\n",
       "17      camp_4            email_bounced       22.22\n",
       "18      camp_4            email_replied       16.67\n",
       "19      camp_4       email_unsubscribed        2.78\n",
       "20      camp_5           email_unopened       39.13\n",
       "21      camp_5             email_opened       30.43\n",
       "22      camp_5            email_replied       15.22\n",
       "23      camp_5            email_bounced       13.04\n",
       "24      camp_5       email_unsubscribed        2.17"
      ]
     },
     "execution_count": 21,
     "metadata": {},
     "output_type": "execute_result"
    }
   ],
   "source": [
    "leads.groupby('campaign_id')['lead_status_for_campaign'].value_counts(normalize=True)\\\n",
    "    .mul(100)\\\n",
    "        .round(2)\\\n",
    "            .rename('percentage')\\\n",
    "                .reset_index()"
   ]
  },
  {
   "cell_type": "code",
   "execution_count": 22,
   "id": "59cc36f1",
   "metadata": {},
   "outputs": [
    {
     "data": {
      "text/plain": [
       "campaign_city  campaign_id\n",
       "Dallas         camp_2         21\n",
       "               camp_4         16\n",
       "               camp_5         14\n",
       "               camp_3         12\n",
       "               camp_1         10\n",
       "Denver         camp_1         17\n",
       "               camp_5         15\n",
       "               camp_3         14\n",
       "               camp_2         11\n",
       "               camp_4         11\n",
       "Phoenix        camp_2         18\n",
       "               camp_5         17\n",
       "               camp_3         14\n",
       "               camp_1         11\n",
       "               camp_4          9\n",
       "Name: count, dtype: int64"
      ]
     },
     "execution_count": 22,
     "metadata": {},
     "output_type": "execute_result"
    }
   ],
   "source": [
    "leads.groupby('campaign_city')['campaign_id'].value_counts()"
   ]
  },
  {
   "cell_type": "markdown",
   "id": "3f3f44da",
   "metadata": {},
   "source": [
    "Camp_1 seems to be the most effective has it has the highest Click-Through-Rate. However, camp_2 has the highest bounce rate.\n",
    "\n",
    "It might be noteworthy that camp_2 campaign was highest in Dallas. Although it was also high in Phoenix, but phoenix has a low bounce rate."
   ]
  },
  {
   "cell_type": "markdown",
   "id": "3a707b43",
   "metadata": {},
   "source": [
    "#### MULTIVARIATE ANALYSIS"
   ]
  },
  {
   "cell_type": "code",
   "execution_count": 23,
   "id": "6294fa30",
   "metadata": {},
   "outputs": [
    {
     "data": {
      "text/html": [
       "<div>\n",
       "<style scoped>\n",
       "    .dataframe tbody tr th:only-of-type {\n",
       "        vertical-align: middle;\n",
       "    }\n",
       "\n",
       "    .dataframe tbody tr th {\n",
       "        vertical-align: top;\n",
       "    }\n",
       "\n",
       "    .dataframe thead th {\n",
       "        text-align: right;\n",
       "    }\n",
       "</style>\n",
       "<table border=\"1\" class=\"dataframe\">\n",
       "  <thead>\n",
       "    <tr style=\"text-align: right;\">\n",
       "      <th></th>\n",
       "      <th>campaign_city</th>\n",
       "      <th>campaign_id</th>\n",
       "      <th>lead_status_for_campaign</th>\n",
       "      <th>percentage</th>\n",
       "    </tr>\n",
       "  </thead>\n",
       "  <tbody>\n",
       "    <tr>\n",
       "      <th>0</th>\n",
       "      <td>Denver</td>\n",
       "      <td>camp_1</td>\n",
       "      <td>email_unopened</td>\n",
       "      <td>41.18</td>\n",
       "    </tr>\n",
       "    <tr>\n",
       "      <th>1</th>\n",
       "      <td>Denver</td>\n",
       "      <td>camp_1</td>\n",
       "      <td>email_opened</td>\n",
       "      <td>35.29</td>\n",
       "    </tr>\n",
       "    <tr>\n",
       "      <th>2</th>\n",
       "      <td>Denver</td>\n",
       "      <td>camp_1</td>\n",
       "      <td>email_replied</td>\n",
       "      <td>23.53</td>\n",
       "    </tr>\n",
       "    <tr>\n",
       "      <th>3</th>\n",
       "      <td>Denver</td>\n",
       "      <td>camp_2</td>\n",
       "      <td>email_opened</td>\n",
       "      <td>36.36</td>\n",
       "    </tr>\n",
       "    <tr>\n",
       "      <th>4</th>\n",
       "      <td>Denver</td>\n",
       "      <td>camp_2</td>\n",
       "      <td>email_unopened</td>\n",
       "      <td>36.36</td>\n",
       "    </tr>\n",
       "    <tr>\n",
       "      <th>5</th>\n",
       "      <td>Denver</td>\n",
       "      <td>camp_2</td>\n",
       "      <td>email_bounced</td>\n",
       "      <td>18.18</td>\n",
       "    </tr>\n",
       "    <tr>\n",
       "      <th>6</th>\n",
       "      <td>Denver</td>\n",
       "      <td>camp_2</td>\n",
       "      <td>email_replied</td>\n",
       "      <td>9.09</td>\n",
       "    </tr>\n",
       "    <tr>\n",
       "      <th>7</th>\n",
       "      <td>Denver</td>\n",
       "      <td>camp_3</td>\n",
       "      <td>email_opened</td>\n",
       "      <td>42.86</td>\n",
       "    </tr>\n",
       "    <tr>\n",
       "      <th>8</th>\n",
       "      <td>Denver</td>\n",
       "      <td>camp_3</td>\n",
       "      <td>email_replied</td>\n",
       "      <td>28.57</td>\n",
       "    </tr>\n",
       "    <tr>\n",
       "      <th>9</th>\n",
       "      <td>Denver</td>\n",
       "      <td>camp_3</td>\n",
       "      <td>email_unopened</td>\n",
       "      <td>28.57</td>\n",
       "    </tr>\n",
       "    <tr>\n",
       "      <th>10</th>\n",
       "      <td>Denver</td>\n",
       "      <td>camp_4</td>\n",
       "      <td>email_unopened</td>\n",
       "      <td>45.45</td>\n",
       "    </tr>\n",
       "    <tr>\n",
       "      <th>11</th>\n",
       "      <td>Denver</td>\n",
       "      <td>camp_4</td>\n",
       "      <td>email_opened</td>\n",
       "      <td>36.36</td>\n",
       "    </tr>\n",
       "    <tr>\n",
       "      <th>12</th>\n",
       "      <td>Denver</td>\n",
       "      <td>camp_4</td>\n",
       "      <td>email_replied</td>\n",
       "      <td>18.18</td>\n",
       "    </tr>\n",
       "    <tr>\n",
       "      <th>13</th>\n",
       "      <td>Denver</td>\n",
       "      <td>camp_5</td>\n",
       "      <td>email_unopened</td>\n",
       "      <td>53.33</td>\n",
       "    </tr>\n",
       "    <tr>\n",
       "      <th>14</th>\n",
       "      <td>Denver</td>\n",
       "      <td>camp_5</td>\n",
       "      <td>email_opened</td>\n",
       "      <td>40.00</td>\n",
       "    </tr>\n",
       "    <tr>\n",
       "      <th>15</th>\n",
       "      <td>Denver</td>\n",
       "      <td>camp_5</td>\n",
       "      <td>email_replied</td>\n",
       "      <td>6.67</td>\n",
       "    </tr>\n",
       "  </tbody>\n",
       "</table>\n",
       "</div>"
      ],
      "text/plain": [
       "   campaign_city campaign_id lead_status_for_campaign  percentage\n",
       "0         Denver      camp_1           email_unopened       41.18\n",
       "1         Denver      camp_1             email_opened       35.29\n",
       "2         Denver      camp_1            email_replied       23.53\n",
       "3         Denver      camp_2             email_opened       36.36\n",
       "4         Denver      camp_2           email_unopened       36.36\n",
       "5         Denver      camp_2            email_bounced       18.18\n",
       "6         Denver      camp_2            email_replied        9.09\n",
       "7         Denver      camp_3             email_opened       42.86\n",
       "8         Denver      camp_3            email_replied       28.57\n",
       "9         Denver      camp_3           email_unopened       28.57\n",
       "10        Denver      camp_4           email_unopened       45.45\n",
       "11        Denver      camp_4             email_opened       36.36\n",
       "12        Denver      camp_4            email_replied       18.18\n",
       "13        Denver      camp_5           email_unopened       53.33\n",
       "14        Denver      camp_5             email_opened       40.00\n",
       "15        Denver      camp_5            email_replied        6.67"
      ]
     },
     "execution_count": 23,
     "metadata": {},
     "output_type": "execute_result"
    }
   ],
   "source": [
    "leads[leads['campaign_city'] == 'Denver'].groupby(['campaign_city', 'campaign_id'])['lead_status_for_campaign']\\\n",
    "    .value_counts(normalize=True)\\\n",
    "        .mul(100)\\\n",
    "            .round(2)\\\n",
    "                .rename('percentage')\\\n",
    "                    .reset_index()"
   ]
  },
  {
   "cell_type": "markdown",
   "id": "5f76aeb5",
   "metadata": {},
   "source": [
    "Lets break the above down by city for easy readability.\n",
    "\n",
    "From the breakdown, it is clear that camp_1 has consistently maintained a high CTR. Only in Denver did camp_1 come in a close second for the highest CTR."
   ]
  },
  {
   "cell_type": "code",
   "execution_count": 24,
   "id": "664788a7",
   "metadata": {},
   "outputs": [
    {
     "data": {
      "text/html": [
       "<div>\n",
       "<style scoped>\n",
       "    .dataframe tbody tr th:only-of-type {\n",
       "        vertical-align: middle;\n",
       "    }\n",
       "\n",
       "    .dataframe tbody tr th {\n",
       "        vertical-align: top;\n",
       "    }\n",
       "\n",
       "    .dataframe thead th {\n",
       "        text-align: right;\n",
       "    }\n",
       "</style>\n",
       "<table border=\"1\" class=\"dataframe\">\n",
       "  <thead>\n",
       "    <tr style=\"text-align: right;\">\n",
       "      <th></th>\n",
       "      <th>lead_status_for_campaign</th>\n",
       "      <th>email_bounced</th>\n",
       "      <th>email_opened</th>\n",
       "      <th>email_replied</th>\n",
       "      <th>email_unopened</th>\n",
       "    </tr>\n",
       "    <tr>\n",
       "      <th>campaign_city</th>\n",
       "      <th>campaign_id</th>\n",
       "      <th></th>\n",
       "      <th></th>\n",
       "      <th></th>\n",
       "      <th></th>\n",
       "    </tr>\n",
       "  </thead>\n",
       "  <tbody>\n",
       "    <tr>\n",
       "      <th rowspan=\"5\" valign=\"top\">Denver</th>\n",
       "      <th>camp_1</th>\n",
       "      <td>0.00</td>\n",
       "      <td>35.29</td>\n",
       "      <td>23.53</td>\n",
       "      <td>41.18</td>\n",
       "    </tr>\n",
       "    <tr>\n",
       "      <th>camp_2</th>\n",
       "      <td>18.18</td>\n",
       "      <td>36.36</td>\n",
       "      <td>9.09</td>\n",
       "      <td>36.36</td>\n",
       "    </tr>\n",
       "    <tr>\n",
       "      <th>camp_3</th>\n",
       "      <td>0.00</td>\n",
       "      <td>42.86</td>\n",
       "      <td>28.57</td>\n",
       "      <td>28.57</td>\n",
       "    </tr>\n",
       "    <tr>\n",
       "      <th>camp_4</th>\n",
       "      <td>0.00</td>\n",
       "      <td>36.36</td>\n",
       "      <td>18.18</td>\n",
       "      <td>45.45</td>\n",
       "    </tr>\n",
       "    <tr>\n",
       "      <th>camp_5</th>\n",
       "      <td>0.00</td>\n",
       "      <td>40.00</td>\n",
       "      <td>6.67</td>\n",
       "      <td>53.33</td>\n",
       "    </tr>\n",
       "  </tbody>\n",
       "</table>\n",
       "</div>"
      ],
      "text/plain": [
       "lead_status_for_campaign   email_bounced  email_opened  email_replied  \\\n",
       "campaign_city campaign_id                                               \n",
       "Denver        camp_1                0.00         35.29          23.53   \n",
       "              camp_2               18.18         36.36           9.09   \n",
       "              camp_3                0.00         42.86          28.57   \n",
       "              camp_4                0.00         36.36          18.18   \n",
       "              camp_5                0.00         40.00           6.67   \n",
       "\n",
       "lead_status_for_campaign   email_unopened  \n",
       "campaign_city campaign_id                  \n",
       "Denver        camp_1                41.18  \n",
       "              camp_2                36.36  \n",
       "              camp_3                28.57  \n",
       "              camp_4                45.45  \n",
       "              camp_5                53.33  "
      ]
     },
     "execution_count": 24,
     "metadata": {},
     "output_type": "execute_result"
    }
   ],
   "source": [
    "leads[leads['campaign_city'] == 'Denver'] \\\n",
    "    .groupby(['campaign_city', 'campaign_id'])['lead_status_for_campaign'] \\\n",
    "    .value_counts(normalize=True) \\\n",
    "    .mul(100).round(2) \\\n",
    "    .rename('percentage') \\\n",
    "    .reset_index() \\\n",
    "    .pivot(index=['campaign_city', 'campaign_id'], columns='lead_status_for_campaign', values='percentage') \\\n",
    "    .fillna(0)\n"
   ]
  },
  {
   "cell_type": "code",
   "execution_count": 25,
   "id": "5acebdd8",
   "metadata": {},
   "outputs": [
    {
     "data": {
      "text/html": [
       "<div>\n",
       "<style scoped>\n",
       "    .dataframe tbody tr th:only-of-type {\n",
       "        vertical-align: middle;\n",
       "    }\n",
       "\n",
       "    .dataframe tbody tr th {\n",
       "        vertical-align: top;\n",
       "    }\n",
       "\n",
       "    .dataframe thead th {\n",
       "        text-align: right;\n",
       "    }\n",
       "</style>\n",
       "<table border=\"1\" class=\"dataframe\">\n",
       "  <thead>\n",
       "    <tr style=\"text-align: right;\">\n",
       "      <th></th>\n",
       "      <th>lead_status_for_campaign</th>\n",
       "      <th>email_bounced</th>\n",
       "      <th>email_opened</th>\n",
       "      <th>email_replied</th>\n",
       "      <th>email_unopened</th>\n",
       "      <th>email_unsubscribed</th>\n",
       "    </tr>\n",
       "    <tr>\n",
       "      <th>campaign_city</th>\n",
       "      <th>campaign_id</th>\n",
       "      <th></th>\n",
       "      <th></th>\n",
       "      <th></th>\n",
       "      <th></th>\n",
       "      <th></th>\n",
       "    </tr>\n",
       "  </thead>\n",
       "  <tbody>\n",
       "    <tr>\n",
       "      <th rowspan=\"5\" valign=\"top\">Phoenix</th>\n",
       "      <th>camp_1</th>\n",
       "      <td>0.00</td>\n",
       "      <td>9.09</td>\n",
       "      <td>36.36</td>\n",
       "      <td>45.45</td>\n",
       "      <td>9.09</td>\n",
       "    </tr>\n",
       "    <tr>\n",
       "      <th>camp_2</th>\n",
       "      <td>11.11</td>\n",
       "      <td>44.44</td>\n",
       "      <td>5.56</td>\n",
       "      <td>27.78</td>\n",
       "      <td>11.11</td>\n",
       "    </tr>\n",
       "    <tr>\n",
       "      <th>camp_3</th>\n",
       "      <td>0.00</td>\n",
       "      <td>28.57</td>\n",
       "      <td>14.29</td>\n",
       "      <td>35.71</td>\n",
       "      <td>21.43</td>\n",
       "    </tr>\n",
       "    <tr>\n",
       "      <th>camp_4</th>\n",
       "      <td>0.00</td>\n",
       "      <td>55.56</td>\n",
       "      <td>22.22</td>\n",
       "      <td>22.22</td>\n",
       "      <td>0.00</td>\n",
       "    </tr>\n",
       "    <tr>\n",
       "      <th>camp_5</th>\n",
       "      <td>0.00</td>\n",
       "      <td>23.53</td>\n",
       "      <td>23.53</td>\n",
       "      <td>47.06</td>\n",
       "      <td>5.88</td>\n",
       "    </tr>\n",
       "  </tbody>\n",
       "</table>\n",
       "</div>"
      ],
      "text/plain": [
       "lead_status_for_campaign   email_bounced  email_opened  email_replied  \\\n",
       "campaign_city campaign_id                                               \n",
       "Phoenix       camp_1                0.00          9.09          36.36   \n",
       "              camp_2               11.11         44.44           5.56   \n",
       "              camp_3                0.00         28.57          14.29   \n",
       "              camp_4                0.00         55.56          22.22   \n",
       "              camp_5                0.00         23.53          23.53   \n",
       "\n",
       "lead_status_for_campaign   email_unopened  email_unsubscribed  \n",
       "campaign_city campaign_id                                      \n",
       "Phoenix       camp_1                45.45                9.09  \n",
       "              camp_2                27.78               11.11  \n",
       "              camp_3                35.71               21.43  \n",
       "              camp_4                22.22                0.00  \n",
       "              camp_5                47.06                5.88  "
      ]
     },
     "execution_count": 25,
     "metadata": {},
     "output_type": "execute_result"
    }
   ],
   "source": [
    "leads[leads['campaign_city'] == 'Phoenix'] \\\n",
    "    .groupby(['campaign_city', 'campaign_id'])['lead_status_for_campaign'] \\\n",
    "    .value_counts(normalize=True) \\\n",
    "    .mul(100).round(2) \\\n",
    "    .rename('percentage') \\\n",
    "    .reset_index() \\\n",
    "    .pivot(index=['campaign_city', 'campaign_id'], columns='lead_status_for_campaign', values='percentage') \\\n",
    "    .fillna(0)"
   ]
  },
  {
   "cell_type": "code",
   "execution_count": 26,
   "id": "7b9052e9",
   "metadata": {},
   "outputs": [
    {
     "data": {
      "text/html": [
       "<div>\n",
       "<style scoped>\n",
       "    .dataframe tbody tr th:only-of-type {\n",
       "        vertical-align: middle;\n",
       "    }\n",
       "\n",
       "    .dataframe tbody tr th {\n",
       "        vertical-align: top;\n",
       "    }\n",
       "\n",
       "    .dataframe thead th {\n",
       "        text-align: right;\n",
       "    }\n",
       "</style>\n",
       "<table border=\"1\" class=\"dataframe\">\n",
       "  <thead>\n",
       "    <tr style=\"text-align: right;\">\n",
       "      <th></th>\n",
       "      <th>lead_status_for_campaign</th>\n",
       "      <th>email_bounced</th>\n",
       "      <th>email_opened</th>\n",
       "      <th>email_replied</th>\n",
       "      <th>email_unopened</th>\n",
       "      <th>email_unsubscribed</th>\n",
       "    </tr>\n",
       "    <tr>\n",
       "      <th>campaign_city</th>\n",
       "      <th>campaign_id</th>\n",
       "      <th></th>\n",
       "      <th></th>\n",
       "      <th></th>\n",
       "      <th></th>\n",
       "      <th></th>\n",
       "    </tr>\n",
       "  </thead>\n",
       "  <tbody>\n",
       "    <tr>\n",
       "      <th rowspan=\"5\" valign=\"top\">Dallas</th>\n",
       "      <th>camp_1</th>\n",
       "      <td>60.00</td>\n",
       "      <td>10.00</td>\n",
       "      <td>20.00</td>\n",
       "      <td>10.00</td>\n",
       "      <td>0.00</td>\n",
       "    </tr>\n",
       "    <tr>\n",
       "      <th>camp_2</th>\n",
       "      <td>42.86</td>\n",
       "      <td>23.81</td>\n",
       "      <td>14.29</td>\n",
       "      <td>19.05</td>\n",
       "      <td>0.00</td>\n",
       "    </tr>\n",
       "    <tr>\n",
       "      <th>camp_3</th>\n",
       "      <td>66.67</td>\n",
       "      <td>16.67</td>\n",
       "      <td>0.00</td>\n",
       "      <td>16.67</td>\n",
       "      <td>0.00</td>\n",
       "    </tr>\n",
       "    <tr>\n",
       "      <th>camp_4</th>\n",
       "      <td>50.00</td>\n",
       "      <td>18.75</td>\n",
       "      <td>12.50</td>\n",
       "      <td>12.50</td>\n",
       "      <td>6.25</td>\n",
       "    </tr>\n",
       "    <tr>\n",
       "      <th>camp_5</th>\n",
       "      <td>42.86</td>\n",
       "      <td>28.57</td>\n",
       "      <td>14.29</td>\n",
       "      <td>14.29</td>\n",
       "      <td>0.00</td>\n",
       "    </tr>\n",
       "  </tbody>\n",
       "</table>\n",
       "</div>"
      ],
      "text/plain": [
       "lead_status_for_campaign   email_bounced  email_opened  email_replied  \\\n",
       "campaign_city campaign_id                                               \n",
       "Dallas        camp_1               60.00         10.00          20.00   \n",
       "              camp_2               42.86         23.81          14.29   \n",
       "              camp_3               66.67         16.67           0.00   \n",
       "              camp_4               50.00         18.75          12.50   \n",
       "              camp_5               42.86         28.57          14.29   \n",
       "\n",
       "lead_status_for_campaign   email_unopened  email_unsubscribed  \n",
       "campaign_city campaign_id                                      \n",
       "Dallas        camp_1                10.00                0.00  \n",
       "              camp_2                19.05                0.00  \n",
       "              camp_3                16.67                0.00  \n",
       "              camp_4                12.50                6.25  \n",
       "              camp_5                14.29                0.00  "
      ]
     },
     "execution_count": 26,
     "metadata": {},
     "output_type": "execute_result"
    }
   ],
   "source": [
    "leads[leads['campaign_city'] == 'Dallas'] \\\n",
    "    .groupby(['campaign_city', 'campaign_id'])['lead_status_for_campaign'] \\\n",
    "    .value_counts(normalize=True) \\\n",
    "    .mul(100).round(2) \\\n",
    "    .rename('percentage') \\\n",
    "    .reset_index() \\\n",
    "    .pivot(index=['campaign_city', 'campaign_id'], columns='lead_status_for_campaign', values='percentage') \\\n",
    "    .fillna(0)"
   ]
  },
  {
   "cell_type": "markdown",
   "id": "ee23ce07",
   "metadata": {},
   "source": [
    "#### VISUALIZATION"
   ]
  },
  {
   "cell_type": "markdown",
   "id": "fda8f596",
   "metadata": {},
   "source": [
    "Email Volume by City"
   ]
  },
  {
   "cell_type": "code",
   "execution_count": 33,
   "id": "cce46f7a",
   "metadata": {},
   "outputs": [
    {
     "data": {
      "image/png": "[encoded data removed]",
      "text/plain": [
       "<Figure size 500x500 with 1 Axes>"
      ]
     },
     "metadata": {},
     "output_type": "display_data"
    }
   ],
   "source": [
    "city_counts = leads['campaign_city'].value_counts().reset_index()\n",
    "city_counts.columns = ['City', 'Email Count']\n",
    "\n",
    "# Plot\n",
    "plt.figure(figsize=(5, 5))\n",
    "plt.bar(city_counts['City'], city_counts['Email Count'], color='skyblue')\n",
    "\n",
    "# Add titles and labels\n",
    "plt.title('Email Volume by City')\n",
    "plt.xlabel('City')\n",
    "plt.ylabel('Number of Emails')\n",
    "\n",
    "# Rotate x-axis labels for readability\n",
    "plt.xticks(rotation=45, ha='right')\n",
    "\n",
    "# Show plot\n",
    "plt.tight_layout()\n",
    "plt.show()\n"
   ]
  },
  {
   "cell_type": "markdown",
   "id": "f42fedaa",
   "metadata": {},
   "source": [
    "Email Volume by Campaign"
   ]
  },
  {
   "cell_type": "code",
   "execution_count": 34,
   "id": "d060fae6",
   "metadata": {},
   "outputs": [
    {
     "data": {
      "image/png": "[encoded data removed]",
      "text/plain": [
       "<Figure size 500x500 with 1 Axes>"
      ]
     },
     "metadata": {},
     "output_type": "display_data"
    }
   ],
   "source": [
    "campaign_counts = leads['campaign_id'].value_counts().reset_index()\n",
    "campaign_counts.columns = ['Campaign ID', 'Email Count']\n",
    "\n",
    "# Plot\n",
    "plt.figure(figsize=(5, 5))\n",
    "plt.bar(campaign_counts['Campaign ID'], campaign_counts['Email Count'], color='lightgreen')\n",
    "\n",
    "# Add titles and labels\n",
    "plt.title('Email Volume by Campaign ID')\n",
    "plt.xlabel('Campaign ID')\n",
    "plt.ylabel('Number of Emails')\n",
    "\n",
    "# Rotate x-axis labels if needed\n",
    "plt.xticks(rotation=45, ha='right')\n",
    "\n",
    "# Show plot\n",
    "plt.tight_layout()\n",
    "plt.show()\n"
   ]
  },
  {
   "cell_type": "markdown",
   "id": "5e3ce909",
   "metadata": {},
   "source": [
    "Lead Status by Campaign ID"
   ]
  },
  {
   "cell_type": "code",
   "execution_count": 35,
   "id": "80b17db1",
   "metadata": {},
   "outputs": [
    {
     "data": {
      "image/png": "[encoded data removed]",
      "text/plain": [
       "<Figure size 1200x600 with 1 Axes>"
      ]
     },
     "metadata": {},
     "output_type": "display_data"
    }
   ],
   "source": [
    "statuses = [\n",
    "    'email_unopened',\n",
    "    'email_opened',\n",
    "    'email_bounced',\n",
    "    'email_replied',\n",
    "    'email_unsubscribed'\n",
    "]\n",
    "\n",
    "# Step 2: Filter relevant rows\n",
    "leads_filtered = leads[leads['lead_status_for_campaign'].isin(statuses)]\n",
    "\n",
    "# Step 3: Count of each status per campaign_id\n",
    "status_counts = (\n",
    "    leads_filtered\n",
    "    .groupby(['campaign_id', 'lead_status_for_campaign'])\n",
    "    .size()\n",
    "    .reset_index(name='count')\n",
    ")\n",
    "\n",
    "# Step 4: Total leads per campaign_id\n",
    "total_counts = (\n",
    "    leads.groupby('campaign_id')\n",
    "    .size()\n",
    "    .reset_index(name='total')\n",
    ")\n",
    "\n",
    "# Step 5: Merge and calculate percentage\n",
    "status_counts = status_counts.merge(total_counts, on='campaign_id')\n",
    "status_counts['percentage'] = (status_counts['count'] / status_counts['total'] * 100).round(2)\n",
    "\n",
    "# Step 6: Sort campaign_id based on email_replied percentage\n",
    "reply_order = (\n",
    "    status_counts[status_counts['lead_status_for_campaign'] == 'email_replied']\n",
    "    .sort_values('percentage', ascending=False)['campaign_id']\n",
    ")\n",
    "\n",
    "# Step 7: Set campaign_id as ordered categorical for sorting\n",
    "status_counts['campaign_id'] = pd.Categorical(\n",
    "    status_counts['campaign_id'],\n",
    "    categories=reply_order,\n",
    "    ordered=True\n",
    ")\n",
    "\n",
    "# Step 8: Pivot the data for grouped bar plotting\n",
    "pivot_df = status_counts.pivot(index='campaign_id', columns='lead_status_for_campaign', values='percentage').fillna(0)\n",
    "pivot_df = pivot_df.loc[reply_order]  # Apply sorting\n",
    "\n",
    "# Step 9: Plot grouped bar chart\n",
    "plt.figure(figsize=(12, 6))\n",
    "bar_width = 0.15\n",
    "x = range(len(pivot_df))\n",
    "\n",
    "# Plot each status as a separate bar group\n",
    "for i, status in enumerate(pivot_df.columns):\n",
    "    plt.bar(\n",
    "        [xi + i * bar_width for xi in x],\n",
    "        pivot_df[status],\n",
    "        width=bar_width,\n",
    "        label=status\n",
    "    )\n",
    "\n",
    "# Axis and labels\n",
    "plt.xticks([xi + bar_width * (len(pivot_df.columns) / 2 - 0.5) for xi in x], pivot_df.index, rotation=45, ha='right')\n",
    "plt.xlabel('Campaign ID')\n",
    "plt.ylabel('Percentage (%)')\n",
    "plt.title('Email Campaign Status Rates by Campaign ID (Sorted by Replies)')\n",
    "plt.legend(title='Email Status')\n",
    "\n",
    "plt.tight_layout()\n",
    "plt.show()\n"
   ]
  },
  {
   "cell_type": "markdown",
   "id": "90e503a3",
   "metadata": {},
   "source": [
    "Lead Status by City"
   ]
  },
  {
   "cell_type": "code",
   "execution_count": 36,
   "id": "5477926b",
   "metadata": {},
   "outputs": [
    {
     "data": {
      "image/png": "[encoded data removed]",
      "text/plain": [
       "<Figure size 1200x600 with 1 Axes>"
      ]
     },
     "metadata": {},
     "output_type": "display_data"
    }
   ],
   "source": [
    "# Step 1: Define relevant statuses\n",
    "statuses = [\n",
    "    'email_unopened',\n",
    "    'email_opened',\n",
    "    'email_bounced',\n",
    "    'email_replied',\n",
    "    'email_unsubscribed'\n",
    "]\n",
    "\n",
    "# Step 2: Filter relevant rows\n",
    "leads_filtered = leads[leads['lead_status_for_campaign'].isin(statuses)]\n",
    "\n",
    "# Step 3: Count of each status per city\n",
    "status_counts = (\n",
    "    leads_filtered\n",
    "    .groupby(['campaign_city', 'lead_status_for_campaign'])\n",
    "    .size()\n",
    "    .reset_index(name='count')\n",
    ")\n",
    "\n",
    "# Step 4: Total leads per city\n",
    "total_counts = (\n",
    "    leads.groupby('campaign_city')\n",
    "    .size()\n",
    "    .reset_index(name='total')\n",
    ")\n",
    "\n",
    "# Step 5: Merge and calculate percentage\n",
    "status_counts = status_counts.merge(total_counts, on='campaign_city')\n",
    "status_counts['percentage'] = (status_counts['count'] / status_counts['total'] * 100).round(2)\n",
    "\n",
    "# Step 6: Sort cities by email_replied percentage\n",
    "city_order = (\n",
    "    status_counts[status_counts['lead_status_for_campaign'] == 'email_replied']\n",
    "    .sort_values('percentage', ascending=False)['campaign_city']\n",
    ")\n",
    "\n",
    "# Step 7: Set city order\n",
    "status_counts['campaign_city'] = pd.Categorical(\n",
    "    status_counts['campaign_city'],\n",
    "    categories=city_order,\n",
    "    ordered=True\n",
    ")\n",
    "\n",
    "# Step 8: Pivot the data\n",
    "pivot_df = status_counts.pivot(index='campaign_city', columns='lead_status_for_campaign', values='percentage').fillna(0)\n",
    "pivot_df = pivot_df.loc[city_order]  # Apply sorting\n",
    "\n",
    "# Step 9: Plot grouped bar chart\n",
    "plt.figure(figsize=(12, 6))\n",
    "bar_width = 0.15\n",
    "x = range(len(pivot_df))\n",
    "\n",
    "# Plot each status\n",
    "for i, status in enumerate(pivot_df.columns):\n",
    "    plt.bar(\n",
    "        [xi + i * bar_width for xi in x],\n",
    "        pivot_df[status],\n",
    "        width=bar_width,\n",
    "        label=status\n",
    "    )\n",
    "\n",
    "# Axis and labels\n",
    "plt.xticks([xi + bar_width * (len(pivot_df.columns) / 2 - 0.5) for xi in x],\n",
    "           pivot_df.index, rotation=45, ha='right')\n",
    "plt.xlabel('City')\n",
    "plt.ylabel('Percentage (%)')\n",
    "plt.title('Email Campaign Status Rates by City (Sorted by Replies)')\n",
    "plt.legend(title='Email Status')\n",
    "\n",
    "plt.tight_layout()\n",
    "plt.show()\n"
   ]
  }
 ],
 "metadata": {
  "kernelspec": {
   "display_name": "Python 3",
   "language": "python",
   "name": "python3"
  },
  "language_info": {
   "codemirror_mode": {
    "name": "ipython",
    "version": 3
   },
   "file_extension": ".py",
   "mimetype": "text/x-python",
   "name": "python",
   "nbconvert_exporter": "python",
   "pygments_lexer": "ipython3",
   "version": "3.13.3"
  }
 },
 "nbformat": 4,
 "nbformat_minor": 5
}
